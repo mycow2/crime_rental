# -*- coding: utf-8 -*-
"""
Created on Tue Oct 22 17:23:22 2024

@author: michael.tu
"""

#%%
import pandas as pd


#%% Importing Data 
url_list = ['https://www.nyc.gov/assets/nypd/downloads/excel/analysis_and_planning/historical-crime-data/seven-major-felony-offenses-by-precinct-2000-2023.xls',
            'https://www.nyc.gov/assets/nypd/downloads/excel/analysis_and_planning/historical-crime-data/non-seven-major-felony-offenses-by-precinct-2000-2023.xls',
            'https://www.nyc.gov/assets/nypd/downloads/excel/analysis_and_planning/historical-crime-data/misdemeanor-offenses-by-precinct-2000-2023.xls',
            'https://www.nyc.gov/assets/nypd/downloads/excel/analysis_and_planning/historical-crime-data/violation-offenses-by-precinct-2000-2023.xls']

cat_list = ['seven_major_felony',
            'non_seven_felony',
            'misdemeanor',
            'violation']
dfs = []

for i,url in enumerate(url_list):
    temp = pd.read_excel(url,header = 2)
    temp = temp[~temp['CRIME'].isna()]
    temp['PCT'] = temp['PCT'].ffill()
    temp['PCT'] = temp['PCT'].astype(str)

    var_list = list(temp.columns)
    values = list(set(var_list)-set(['PCT','CRIME']))
    temp = pd.melt(temp,id_vars = ['PCT','CRIME'],value_vars = values,
                   var_name = 'YEAR', value_name = 'COUNT')
    temp['CATEGORY'] = cat_list[i]
    dfs.append(temp)

final = pd.concat(dfs)
#%% Importing geodata 
import geopandas as gpd
precinct_gdf = gpd.read_file('https://data.cityofnewyork.us/api/geospatial/78dh-3ptz?method=export&format=GeoJSON')
test_geo = gpd.read_file('https://data.cityofnewyork.us/api/views/kmub-vria/rows.csv?accessType=DOWNLOAD')
precinct_gdf.dtypes
#%% Crime w Geo-data
crime_geo = precinct_gdf.merge(final,how = 'left',left_on = 'precinct',right_on = 'PCT')
crime_geo['YEAR'] = crime_geo['YEAR'].astype(int)

seven_major = crime_geo[(crime_geo['YEAR']==2023) & (crime_geo['CRIME']=='TOTAL SEVEN MAJOR FELONY OFFENSES')]
seven_major.explore(column = 'COUNT',cmap = 'bwr',
                    tool_tip = ['PCT','YEAR','COUNT']).save(r'\\owg.ds.corp\serverfarm\KnowledgeBase\Health\0-Training\2024\New Hire Orientation\Work\MT\P Projects\test_map.html')

#%% Plottig with Geo-data
# https://geopandas.org/en/stable/gallery/plotting_basemap_background.html
import contextily as cx

df_wm = seven_major.to_crs(epsg=3857)

ax = df_wm.plot(figsize=(15, 15), alpha=0.5, edgecolor="k",
                      column = 'COUNT',cmap = 'bwr',legend = True)

cx.add_basemap(ax,source = cx.providers.CartoDB.Positron)

ax.set_axis_off()


#%%
