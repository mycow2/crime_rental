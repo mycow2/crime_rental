import pandas as pd

#%%
import pandas as pd

#%%
base = 'https://data.cityofnewyork.us/resource/8h9b-rp9u.csv'
#%%
offset = 1000
dfs = {}
for page in range(9723): 
    url = base + '?$limit=1000&$offset=' + str(offset)
    temp = pd.read_csv(url)
    offset += 1000
    dfs[page] = temp
